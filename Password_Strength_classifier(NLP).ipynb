{
  "nbformat": 4,
  "nbformat_minor": 0,
  "metadata": {
    "kernelspec": {
      "display_name": "Python 3",
      "language": "python",
      "name": "python3"
    },
    "language_info": {
      "codemirror_mode": {
        "name": "ipython",
        "version": 3
      },
      "file_extension": ".py",
      "mimetype": "text/x-python",
      "name": "python",
      "nbconvert_exporter": "python",
      "pygments_lexer": "ipython3",
      "version": "3.7.4"
    },
    "colab": {
      "name": "Password_Strength_classifier(NLP).ipynb",
      "provenance": [],
      "collapsed_sections": []
    }
  },
  "cells": [
    {
      "cell_type": "markdown",
      "metadata": {
        "id": "byMu4ispAsK2"
      },
      "source": [
        "# Password Strenght Classifier(NLP)"
      ]
    },
    {
      "cell_type": "code",
      "metadata": {
        "id": "XY6PoP9wsuZ3"
      },
      "source": [
        "import pandas as pd\n",
        "import numpy as np\n",
        "import seaborn as sns\n",
        "import warnings\n",
        "warnings.filterwarnings('ignore')"
      ],
      "execution_count": null,
      "outputs": []
    },
    {
      "cell_type": "markdown",
      "metadata": {
        "id": "ssxtJl-ysuZ4"
      },
      "source": [
        "#### REading dataset"
      ]
    },
    {
      "cell_type": "code",
      "metadata": {
        "id": "LjbIR5zssuZ7",
        "colab": {
          "base_uri": "https://localhost:8080/",
          "height": 275
        },
        "outputId": "a09f7b2e-6892-474c-dfaa-987def8e8df2"
      },
      "source": [
        "data=pd.read_csv('/content/data.csv',error_bad_lines=False)\n",
        "data.head()"
      ],
      "execution_count": null,
      "outputs": [
        {
          "output_type": "stream",
          "text": [
            "b'Skipping line 2810: expected 2 fields, saw 5\\nSkipping line 4641: expected 2 fields, saw 5\\nSkipping line 7171: expected 2 fields, saw 5\\nSkipping line 11220: expected 2 fields, saw 5\\nSkipping line 13809: expected 2 fields, saw 5\\nSkipping line 14132: expected 2 fields, saw 5\\nSkipping line 14293: expected 2 fields, saw 5\\nSkipping line 14865: expected 2 fields, saw 5\\nSkipping line 17419: expected 2 fields, saw 5\\nSkipping line 22801: expected 2 fields, saw 5\\nSkipping line 25001: expected 2 fields, saw 5\\nSkipping line 26603: expected 2 fields, saw 5\\nSkipping line 26742: expected 2 fields, saw 5\\nSkipping line 29702: expected 2 fields, saw 5\\nSkipping line 32767: expected 2 fields, saw 5\\nSkipping line 32878: expected 2 fields, saw 5\\nSkipping line 35643: expected 2 fields, saw 5\\nSkipping line 36550: expected 2 fields, saw 5\\nSkipping line 38732: expected 2 fields, saw 5\\nSkipping line 40567: expected 2 fields, saw 5\\nSkipping line 40576: expected 2 fields, saw 5\\nSkipping line 41864: expected 2 fields, saw 5\\nSkipping line 46861: expected 2 fields, saw 5\\nSkipping line 47939: expected 2 fields, saw 5\\nSkipping line 48628: expected 2 fields, saw 5\\nSkipping line 48908: expected 2 fields, saw 5\\nSkipping line 57582: expected 2 fields, saw 5\\nSkipping line 58782: expected 2 fields, saw 5\\nSkipping line 58984: expected 2 fields, saw 5\\nSkipping line 61518: expected 2 fields, saw 5\\nSkipping line 63451: expected 2 fields, saw 5\\nSkipping line 68141: expected 2 fields, saw 5\\nSkipping line 72083: expected 2 fields, saw 5\\nSkipping line 74027: expected 2 fields, saw 5\\nSkipping line 77811: expected 2 fields, saw 5\\nSkipping line 83958: expected 2 fields, saw 5\\nSkipping line 85295: expected 2 fields, saw 5\\nSkipping line 88665: expected 2 fields, saw 5\\nSkipping line 89198: expected 2 fields, saw 5\\nSkipping line 92499: expected 2 fields, saw 5\\nSkipping line 92751: expected 2 fields, saw 5\\nSkipping line 93689: expected 2 fields, saw 5\\nSkipping line 94776: expected 2 fields, saw 5\\nSkipping line 97334: expected 2 fields, saw 5\\nSkipping line 102316: expected 2 fields, saw 5\\nSkipping line 103421: expected 2 fields, saw 5\\nSkipping line 106872: expected 2 fields, saw 5\\nSkipping line 109363: expected 2 fields, saw 5\\nSkipping line 110117: expected 2 fields, saw 5\\nSkipping line 110465: expected 2 fields, saw 5\\nSkipping line 113843: expected 2 fields, saw 5\\nSkipping line 115634: expected 2 fields, saw 5\\nSkipping line 121518: expected 2 fields, saw 5\\nSkipping line 123692: expected 2 fields, saw 5\\nSkipping line 124708: expected 2 fields, saw 5\\nSkipping line 129608: expected 2 fields, saw 5\\nSkipping line 133176: expected 2 fields, saw 5\\nSkipping line 135532: expected 2 fields, saw 5\\nSkipping line 138042: expected 2 fields, saw 5\\nSkipping line 139485: expected 2 fields, saw 5\\nSkipping line 140401: expected 2 fields, saw 5\\nSkipping line 144093: expected 2 fields, saw 5\\nSkipping line 149850: expected 2 fields, saw 5\\nSkipping line 151831: expected 2 fields, saw 5\\nSkipping line 158014: expected 2 fields, saw 5\\nSkipping line 162047: expected 2 fields, saw 5\\nSkipping line 164515: expected 2 fields, saw 5\\nSkipping line 170313: expected 2 fields, saw 5\\nSkipping line 171325: expected 2 fields, saw 5\\nSkipping line 171424: expected 2 fields, saw 5\\nSkipping line 175920: expected 2 fields, saw 5\\nSkipping line 176210: expected 2 fields, saw 5\\nSkipping line 183603: expected 2 fields, saw 5\\nSkipping line 190264: expected 2 fields, saw 5\\nSkipping line 191683: expected 2 fields, saw 5\\nSkipping line 191988: expected 2 fields, saw 5\\nSkipping line 195450: expected 2 fields, saw 5\\nSkipping line 195754: expected 2 fields, saw 5\\nSkipping line 197124: expected 2 fields, saw 5\\nSkipping line 199263: expected 2 fields, saw 5\\nSkipping line 202603: expected 2 fields, saw 5\\nSkipping line 209960: expected 2 fields, saw 5\\nSkipping line 213218: expected 2 fields, saw 5\\nSkipping line 217060: expected 2 fields, saw 5\\nSkipping line 220121: expected 2 fields, saw 5\\nSkipping line 223518: expected 2 fields, saw 5\\nSkipping line 226293: expected 2 fields, saw 5\\nSkipping line 227035: expected 2 fields, saw 7\\nSkipping line 227341: expected 2 fields, saw 5\\nSkipping line 227808: expected 2 fields, saw 5\\nSkipping line 228516: expected 2 fields, saw 5\\nSkipping line 228733: expected 2 fields, saw 5\\nSkipping line 232043: expected 2 fields, saw 5\\nSkipping line 232426: expected 2 fields, saw 5\\nSkipping line 234490: expected 2 fields, saw 5\\nSkipping line 239626: expected 2 fields, saw 5\\nSkipping line 240461: expected 2 fields, saw 5\\nSkipping line 244518: expected 2 fields, saw 5\\nSkipping line 245395: expected 2 fields, saw 5\\nSkipping line 246168: expected 2 fields, saw 5\\nSkipping line 246655: expected 2 fields, saw 5\\nSkipping line 246752: expected 2 fields, saw 5\\nSkipping line 247189: expected 2 fields, saw 5\\nSkipping line 250276: expected 2 fields, saw 5\\nSkipping line 255327: expected 2 fields, saw 5\\nSkipping line 257094: expected 2 fields, saw 5\\n'\n",
            "b'Skipping line 264626: expected 2 fields, saw 5\\nSkipping line 265028: expected 2 fields, saw 5\\nSkipping line 269150: expected 2 fields, saw 5\\nSkipping line 271360: expected 2 fields, saw 5\\nSkipping line 273975: expected 2 fields, saw 5\\nSkipping line 274742: expected 2 fields, saw 5\\nSkipping line 276227: expected 2 fields, saw 5\\nSkipping line 279807: expected 2 fields, saw 5\\nSkipping line 283425: expected 2 fields, saw 5\\nSkipping line 287468: expected 2 fields, saw 5\\nSkipping line 292995: expected 2 fields, saw 5\\nSkipping line 293496: expected 2 fields, saw 5\\nSkipping line 293735: expected 2 fields, saw 5\\nSkipping line 295060: expected 2 fields, saw 5\\nSkipping line 296643: expected 2 fields, saw 5\\nSkipping line 296848: expected 2 fields, saw 5\\nSkipping line 308926: expected 2 fields, saw 5\\nSkipping line 310360: expected 2 fields, saw 5\\nSkipping line 317004: expected 2 fields, saw 5\\nSkipping line 318207: expected 2 fields, saw 5\\nSkipping line 331783: expected 2 fields, saw 5\\nSkipping line 333864: expected 2 fields, saw 5\\nSkipping line 335958: expected 2 fields, saw 5\\nSkipping line 336290: expected 2 fields, saw 5\\nSkipping line 343526: expected 2 fields, saw 5\\nSkipping line 343857: expected 2 fields, saw 5\\nSkipping line 344059: expected 2 fields, saw 5\\nSkipping line 348691: expected 2 fields, saw 5\\nSkipping line 353446: expected 2 fields, saw 5\\nSkipping line 357073: expected 2 fields, saw 5\\nSkipping line 359753: expected 2 fields, saw 5\\nSkipping line 359974: expected 2 fields, saw 5\\nSkipping line 366534: expected 2 fields, saw 5\\nSkipping line 369514: expected 2 fields, saw 5\\nSkipping line 377759: expected 2 fields, saw 5\\nSkipping line 379327: expected 2 fields, saw 5\\nSkipping line 380769: expected 2 fields, saw 5\\nSkipping line 381073: expected 2 fields, saw 5\\nSkipping line 381489: expected 2 fields, saw 5\\nSkipping line 386304: expected 2 fields, saw 5\\nSkipping line 387635: expected 2 fields, saw 5\\nSkipping line 389613: expected 2 fields, saw 5\\nSkipping line 392604: expected 2 fields, saw 5\\nSkipping line 393184: expected 2 fields, saw 5\\nSkipping line 395530: expected 2 fields, saw 5\\nSkipping line 396939: expected 2 fields, saw 5\\nSkipping line 397385: expected 2 fields, saw 5\\nSkipping line 397509: expected 2 fields, saw 5\\nSkipping line 402902: expected 2 fields, saw 5\\nSkipping line 405187: expected 2 fields, saw 5\\nSkipping line 408412: expected 2 fields, saw 5\\nSkipping line 419423: expected 2 fields, saw 5\\nSkipping line 420962: expected 2 fields, saw 5\\nSkipping line 425965: expected 2 fields, saw 5\\nSkipping line 427496: expected 2 fields, saw 5\\nSkipping line 438881: expected 2 fields, saw 5\\nSkipping line 439776: expected 2 fields, saw 5\\nSkipping line 440345: expected 2 fields, saw 5\\nSkipping line 445507: expected 2 fields, saw 5\\nSkipping line 445548: expected 2 fields, saw 5\\nSkipping line 447184: expected 2 fields, saw 5\\nSkipping line 448603: expected 2 fields, saw 5\\nSkipping line 451732: expected 2 fields, saw 5\\nSkipping line 458249: expected 2 fields, saw 5\\nSkipping line 460274: expected 2 fields, saw 5\\nSkipping line 467630: expected 2 fields, saw 5\\nSkipping line 473961: expected 2 fields, saw 5\\nSkipping line 476281: expected 2 fields, saw 5\\nSkipping line 478010: expected 2 fields, saw 5\\nSkipping line 478322: expected 2 fields, saw 5\\nSkipping line 479999: expected 2 fields, saw 5\\nSkipping line 480898: expected 2 fields, saw 5\\nSkipping line 481688: expected 2 fields, saw 5\\nSkipping line 485193: expected 2 fields, saw 5\\nSkipping line 485519: expected 2 fields, saw 5\\nSkipping line 486000: expected 2 fields, saw 5\\nSkipping line 489063: expected 2 fields, saw 5\\nSkipping line 494525: expected 2 fields, saw 5\\nSkipping line 495009: expected 2 fields, saw 5\\nSkipping line 501954: expected 2 fields, saw 5\\nSkipping line 508035: expected 2 fields, saw 5\\nSkipping line 508828: expected 2 fields, saw 5\\nSkipping line 509833: expected 2 fields, saw 5\\nSkipping line 510410: expected 2 fields, saw 5\\nSkipping line 518229: expected 2 fields, saw 5\\nSkipping line 520302: expected 2 fields, saw 5\\nSkipping line 520340: expected 2 fields, saw 5\\n'\n",
            "b'Skipping line 525174: expected 2 fields, saw 5\\nSkipping line 526251: expected 2 fields, saw 5\\nSkipping line 529611: expected 2 fields, saw 5\\nSkipping line 531398: expected 2 fields, saw 5\\nSkipping line 534146: expected 2 fields, saw 5\\nSkipping line 544954: expected 2 fields, saw 5\\nSkipping line 553002: expected 2 fields, saw 5\\nSkipping line 553883: expected 2 fields, saw 5\\nSkipping line 553887: expected 2 fields, saw 5\\nSkipping line 553915: expected 2 fields, saw 5\\nSkipping line 554172: expected 2 fields, saw 5\\nSkipping line 563534: expected 2 fields, saw 5\\nSkipping line 565191: expected 2 fields, saw 5\\nSkipping line 574108: expected 2 fields, saw 5\\nSkipping line 574412: expected 2 fields, saw 5\\nSkipping line 575985: expected 2 fields, saw 5\\nSkipping line 580091: expected 2 fields, saw 5\\nSkipping line 582682: expected 2 fields, saw 5\\nSkipping line 585885: expected 2 fields, saw 5\\nSkipping line 590171: expected 2 fields, saw 5\\nSkipping line 591924: expected 2 fields, saw 5\\nSkipping line 592515: expected 2 fields, saw 5\\nSkipping line 593888: expected 2 fields, saw 5\\nSkipping line 596245: expected 2 fields, saw 5\\nSkipping line 607344: expected 2 fields, saw 5\\nSkipping line 607633: expected 2 fields, saw 5\\nSkipping line 610939: expected 2 fields, saw 5\\nSkipping line 613638: expected 2 fields, saw 5\\nSkipping line 615643: expected 2 fields, saw 5\\nSkipping line 615901: expected 2 fields, saw 5\\nSkipping line 617389: expected 2 fields, saw 5\\nSkipping line 634641: expected 2 fields, saw 5\\nSkipping line 635755: expected 2 fields, saw 5\\nSkipping line 646243: expected 2 fields, saw 5\\nSkipping line 647165: expected 2 fields, saw 5\\nSkipping line 648610: expected 2 fields, saw 5\\nSkipping line 648772: expected 2 fields, saw 5\\nSkipping line 651833: expected 2 fields, saw 5\\nSkipping line 653663: expected 2 fields, saw 5\\nSkipping line 656233: expected 2 fields, saw 5\\nSkipping line 656694: expected 2 fields, saw 5\\nSkipping line 659783: expected 2 fields, saw 5\\nSkipping line 660478: expected 2 fields, saw 5\\nSkipping line 661133: expected 2 fields, saw 5\\nSkipping line 661736: expected 2 fields, saw 5\\nSkipping line 669827: expected 2 fields, saw 5\\n'\n"
          ],
          "name": "stderr"
        },
        {
          "output_type": "execute_result",
          "data": {
            "text/html": [
              "<div>\n",
              "<style scoped>\n",
              "    .dataframe tbody tr th:only-of-type {\n",
              "        vertical-align: middle;\n",
              "    }\n",
              "\n",
              "    .dataframe tbody tr th {\n",
              "        vertical-align: top;\n",
              "    }\n",
              "\n",
              "    .dataframe thead th {\n",
              "        text-align: right;\n",
              "    }\n",
              "</style>\n",
              "<table border=\"1\" class=\"dataframe\">\n",
              "  <thead>\n",
              "    <tr style=\"text-align: right;\">\n",
              "      <th></th>\n",
              "      <th>password</th>\n",
              "      <th>strength</th>\n",
              "    </tr>\n",
              "  </thead>\n",
              "  <tbody>\n",
              "    <tr>\n",
              "      <th>0</th>\n",
              "      <td>kzde5577</td>\n",
              "      <td>1</td>\n",
              "    </tr>\n",
              "    <tr>\n",
              "      <th>1</th>\n",
              "      <td>kino3434</td>\n",
              "      <td>1</td>\n",
              "    </tr>\n",
              "    <tr>\n",
              "      <th>2</th>\n",
              "      <td>visi7k1yr</td>\n",
              "      <td>1</td>\n",
              "    </tr>\n",
              "    <tr>\n",
              "      <th>3</th>\n",
              "      <td>megzy123</td>\n",
              "      <td>1</td>\n",
              "    </tr>\n",
              "    <tr>\n",
              "      <th>4</th>\n",
              "      <td>lamborghin1</td>\n",
              "      <td>1</td>\n",
              "    </tr>\n",
              "  </tbody>\n",
              "</table>\n",
              "</div>"
            ],
            "text/plain": [
              "      password  strength\n",
              "0     kzde5577         1\n",
              "1     kino3434         1\n",
              "2    visi7k1yr         1\n",
              "3     megzy123         1\n",
              "4  lamborghin1         1"
            ]
          },
          "metadata": {
            "tags": []
          },
          "execution_count": 3
        }
      ]
    },
    {
      "cell_type": "code",
      "metadata": {
        "id": "Ljnj-jJtsuZ9",
        "colab": {
          "base_uri": "https://localhost:8080/"
        },
        "outputId": "58ede81d-bd36-4515-b0ad-ac0cb5c92d0c"
      },
      "source": [
        "data['strength'].unique()"
      ],
      "execution_count": null,
      "outputs": [
        {
          "output_type": "execute_result",
          "data": {
            "text/plain": [
              "array([1, 2, 0])"
            ]
          },
          "metadata": {
            "tags": []
          },
          "execution_count": 4
        }
      ]
    },
    {
      "cell_type": "code",
      "metadata": {
        "id": "XzPvGjp7suZ-"
      },
      "source": [
        ""
      ],
      "execution_count": null,
      "outputs": []
    },
    {
      "cell_type": "markdown",
      "metadata": {
        "id": "Duhk0h52suZ-"
      },
      "source": [
        "#### code to check all the missing values in my dataset"
      ]
    },
    {
      "cell_type": "code",
      "metadata": {
        "id": "SOcPvimRsuZ_",
        "colab": {
          "base_uri": "https://localhost:8080/"
        },
        "outputId": "e862bab8-2787-4852-9731-428d87193b52"
      },
      "source": [
        "data.isna().sum()"
      ],
      "execution_count": null,
      "outputs": [
        {
          "output_type": "execute_result",
          "data": {
            "text/plain": [
              "password    1\n",
              "strength    0\n",
              "dtype: int64"
            ]
          },
          "metadata": {
            "tags": []
          },
          "execution_count": 5
        }
      ]
    },
    {
      "cell_type": "code",
      "metadata": {
        "id": "p-wIN0K-suZ_",
        "colab": {
          "base_uri": "https://localhost:8080/",
          "height": 80
        },
        "outputId": "5b387294-7ca8-4ed4-9ca8-aec796a09628"
      },
      "source": [
        "data[data['password'].isnull()]"
      ],
      "execution_count": null,
      "outputs": [
        {
          "output_type": "execute_result",
          "data": {
            "text/html": [
              "<div>\n",
              "<style scoped>\n",
              "    .dataframe tbody tr th:only-of-type {\n",
              "        vertical-align: middle;\n",
              "    }\n",
              "\n",
              "    .dataframe tbody tr th {\n",
              "        vertical-align: top;\n",
              "    }\n",
              "\n",
              "    .dataframe thead th {\n",
              "        text-align: right;\n",
              "    }\n",
              "</style>\n",
              "<table border=\"1\" class=\"dataframe\">\n",
              "  <thead>\n",
              "    <tr style=\"text-align: right;\">\n",
              "      <th></th>\n",
              "      <th>password</th>\n",
              "      <th>strength</th>\n",
              "    </tr>\n",
              "  </thead>\n",
              "  <tbody>\n",
              "    <tr>\n",
              "      <th>367579</th>\n",
              "      <td>NaN</td>\n",
              "      <td>0</td>\n",
              "    </tr>\n",
              "  </tbody>\n",
              "</table>\n",
              "</div>"
            ],
            "text/plain": [
              "       password  strength\n",
              "367579      NaN         0"
            ]
          },
          "metadata": {
            "tags": []
          },
          "execution_count": 6
        }
      ]
    },
    {
      "cell_type": "code",
      "metadata": {
        "id": "0HMU6yI_suaA"
      },
      "source": [
        "data.dropna(inplace=True)"
      ],
      "execution_count": null,
      "outputs": []
    },
    {
      "cell_type": "code",
      "metadata": {
        "id": "2QVy7l7SsuaA",
        "colab": {
          "base_uri": "https://localhost:8080/"
        },
        "outputId": "0b748fb5-2ab3-4353-b851-85d5d40d039b"
      },
      "source": [
        "data.isnull().sum()"
      ],
      "execution_count": null,
      "outputs": [
        {
          "output_type": "execute_result",
          "data": {
            "text/plain": [
              "password    0\n",
              "strength    0\n",
              "dtype: int64"
            ]
          },
          "metadata": {
            "tags": []
          },
          "execution_count": 8
        }
      ]
    },
    {
      "cell_type": "code",
      "metadata": {
        "id": "47S1F2nCsuaA",
        "colab": {
          "base_uri": "https://localhost:8080/",
          "height": 296
        },
        "outputId": "f432e59f-03dc-4a7f-a3bc-3df8f15c5546"
      },
      "source": [
        "sns.countplot(data['strength'])"
      ],
      "execution_count": null,
      "outputs": [
        {
          "output_type": "execute_result",
          "data": {
            "text/plain": [
              "<matplotlib.axes._subplots.AxesSubplot at 0x7fc4ec7536d0>"
            ]
          },
          "metadata": {
            "tags": []
          },
          "execution_count": 9
        },
        {
          "output_type": "display_data",
          "data": {
            "image/png": "[encoded data removed]",
            "text/plain": [
              "<Figure size 432x288 with 1 Axes>"
            ]
          },
          "metadata": {
            "tags": [],
            "needs_background": "light"
          }
        }
      ]
    },
    {
      "cell_type": "code",
      "metadata": {
        "id": "4E4bje5RsuaB"
      },
      "source": [
        "#converting the entire data into Array\n",
        "password_tuple=np.array(data)"
      ],
      "execution_count": null,
      "outputs": []
    },
    {
      "cell_type": "code",
      "metadata": {
        "id": "I5isQJA8suaC",
        "colab": {
          "base_uri": "https://localhost:8080/"
        },
        "outputId": "9a46f672-79d3-4ce1-b7e9-846609acaa6a"
      },
      "source": [
        "password_tuple"
      ],
      "execution_count": null,
      "outputs": [
        {
          "output_type": "execute_result",
          "data": {
            "text/plain": [
              "array([['kzde5577', 1],\n",
              "       ['kino3434', 1],\n",
              "       ['visi7k1yr', 1],\n",
              "       ...,\n",
              "       ['184520socram', 1],\n",
              "       ['marken22a', 1],\n",
              "       ['fxx4pw4g', 1]], dtype=object)"
            ]
          },
          "metadata": {
            "tags": []
          },
          "execution_count": 13
        }
      ]
    },
    {
      "cell_type": "code",
      "metadata": {
        "id": "DCRO5JwhsuaC"
      },
      "source": [
        ""
      ],
      "execution_count": null,
      "outputs": []
    },
    {
      "cell_type": "markdown",
      "metadata": {
        "id": "yMJPjc0AsuaC"
      },
      "source": [
        "#### shuffling randomly for robustness"
      ]
    },
    {
      "cell_type": "code",
      "metadata": {
        "id": "brQMaRkNsuaD"
      },
      "source": [
        "import random\n",
        "random.shuffle(password_tuple)"
      ],
      "execution_count": null,
      "outputs": []
    },
    {
      "cell_type": "code",
      "metadata": {
        "id": "G003s5QTsuaD"
      },
      "source": [
        "#  index->0    index-> 1 \n",
        "# ['kzde5577' ,      1]\n",
        "\n",
        "x=[labels[0] for labels in password_tuple] #Independent Data\n",
        "y=[labels[1] for labels in password_tuple] #Dependent Data\n"
      ],
      "execution_count": null,
      "outputs": []
    },
    {
      "cell_type": "code",
      "metadata": {
        "id": "E5pOfQTnsuaE",
        "colab": {
          "base_uri": "https://localhost:8080/"
        },
        "outputId": "96f068c6-8ac2-4ca0-9e90-c24ff8c032c6"
      },
      "source": [
        "x"
      ],
      "execution_count": null,
      "outputs": [
        {
          "output_type": "execute_result",
          "data": {
            "text/plain": [
              "['kzde5577',\n",
              " 'kzde5577',\n",
              " 'visi7k1yr',\n",
              " 'visi7k1yr',\n",
              " 'lamborghin1',\n",
              " 'kino3434',\n",
              " 'visi7k1yr',\n",
              " 'kino3434',\n",
              " 'megzy123',\n",
              " 'lamborghin1',\n",
              " 'v1118714',\n",
              " 'megzy123',\n",
              " 'jytifok873',\n",
              " 'kino3434',\n",
              " 'kino3434',\n",
              " 'asv5o9yu',\n",
              " '612035180tok',\n",
              " '52558000aaa',\n",
              " 'megzy123',\n",
              " 'kzde5577',\n",
              " 'v1118714',\n",
              " 'elyass15@ajilent-ci',\n",
              " 'universe2908',\n",
              " '52558000aaa',\n",
              " 'AVYq1lDE4MgAZfNt',\n",
              " 'idofo673',\n",
              " '6975038lp',\n",
              " '6975038lp',\n",
              " 'cigicigi123',\n",
              " 'kino3434',\n",
              " '52558000aaa',\n",
              " 'universe2908',\n",
              " 'megzy123',\n",
              " 'v1118714',\n",
              " 'memjan123',\n",
              " 'AVYq1lDE4MgAZfNt',\n",
              " '612035180tok',\n",
              " 'czuodhj972',\n",
              " 'visi7k1yr',\n",
              " 'jerusalem393',\n",
              " '0169395484a',\n",
              " 'gaymaids1',\n",
              " 'go7kew7a2po',\n",
              " 'asgaliu11',\n",
              " 'fk9qi21m',\n",
              " 'alimagik1',\n",
              " 'fahad123',\n",
              " 'intel1',\n",
              " 'a2531106',\n",
              " 'exitos2009',\n",
              " 'gaymaids1',\n",
              " 'kswa2mrv',\n",
              " 'lsdlsd1',\n",
              " 'juliel009',\n",
              " 'klara-tershina3H',\n",
              " 'AVYq1lDE4MgAZfNt',\n",
              " 'asv5o9yu',\n",
              " 'universe2908',\n",
              " 'olmaz.',\n",
              " 'intel1',\n",
              " 'fk9qi21m',\n",
              " 'u6c8vhow',\n",
              " 'olmaz.',\n",
              " 'asgaliu11',\n",
              " 'calcifer32',\n",
              " 'lsdlsd1',\n",
              " 'asv5o9yu',\n",
              " 'asv5o9yu',\n",
              " 'b4NbTxDEyNgG141J',\n",
              " 'WUt9IZzE0OQ7PkNE',\n",
              " 'prisonbreak1',\n",
              " 'obstacle25',\n",
              " 'gaymaids1',\n",
              " 'schalke04',\n",
              " 'ejeko677',\n",
              " 'visi7k1yr',\n",
              " 'asv5o9yu',\n",
              " 'universe2908',\n",
              " 'bgrvl80',\n",
              " 'kjkjkj1',\n",
              " '612035180tok',\n",
              " 'jalingo1',\n",
              " '0169395484a',\n",
              " 'WUt9IZzE0OQ7PkNE',\n",
              " 'czuodhj972',\n",
              " 'obstacle25',\n",
              " '6975038lp',\n",
              " 'TyWM72UNEex8Q8Y',\n",
              " 'exitos2009',\n",
              " 'snolyuj04',\n",
              " 'ga98SIzk0NwhiZaE',\n",
              " 'tamanagung6',\n",
              " 'woon12',\n",
              " 'prisonbreak1',\n",
              " 'snolyuj04',\n",
              " 'bgrvl80',\n",
              " 'k9b8cz6aj2',\n",
              " 'hayhayq2',\n",
              " 'ejeko677',\n",
              " 'p2share',\n",
              " 'jonothepoop1',\n",
              " 'bozoxik602',\n",
              " 'kino3434',\n",
              " 'yllime123',\n",
              " 'hodygid757',\n",
              " '52558000aaa',\n",
              " 'bgrvl80',\n",
              " '0169395484a',\n",
              " 'a2531106',\n",
              " 'ass359',\n",
              " 'jalingo1',\n",
              " 'WUt9IZzE0OQ7PkNE',\n",
              " 'openup12',\n",
              " 'TyWM72UNEex8Q8Y',\n",
              " 'ikanez886',\n",
              " 'schalke04',\n",
              " 'memjan123',\n",
              " 'xyws951753',\n",
              " 'schalke04',\n",
              " 'Iamthelegend1!',\n",
              " '123477889a',\n",
              " 'jytifok873',\n",
              " 'sbl571017',\n",
              " 'matiofox08',\n",
              " 'ikanez886',\n",
              " '10Erjrlmebup0n',\n",
              " 'Iamthelegend1!',\n",
              " 'poseidon2011',\n",
              " 'visi7k1yr',\n",
              " 'kunyukbabi69',\n",
              " 'rogyh820',\n",
              " 'jalal123456',\n",
              " 'jonothepoop1',\n",
              " 'xiau5ff',\n",
              " 'czuodhj972',\n",
              " '838188linh',\n",
              " 'as326159',\n",
              " 'khmer100.03278&?><Mnb',\n",
              " 'olmaz.',\n",
              " 'pikey231',\n",
              " 'www32223222',\n",
              " 'jUV4dSDQwNwPpA36',\n",
              " '2021848709.',\n",
              " 'z3ro1sm',\n",
              " 'znbl5tj1',\n",
              " 'faranumar91',\n",
              " 'jonothepoop1',\n",
              " 'snolyuj04',\n",
              " 'vehat387',\n",
              " 'tamanagung6',\n",
              " '2021848709.',\n",
              " '26522876p',\n",
              " 'portales1',\n",
              " 'schalke04',\n",
              " 'z3ro1sm',\n",
              " 'obstacle25',\n",
              " 's9830950044',\n",
              " '2akira2',\n",
              " 'yllime123',\n",
              " 'calcifer32',\n",
              " 'ok>bdk',\n",
              " '64959rodro',\n",
              " 'xyws951753',\n",
              " 'kVczcljg4OA25Aeb',\n",
              " 'jytifok873',\n",
              " 'calcifer32',\n",
              " 'gdfn76',\n",
              " 'sbl571017',\n",
              " 'sbl571017',\n",
              " 'yu4cmn',\n",
              " 'IjUcOtYqAwel725',\n",
              " 'idofo673',\n",
              " 'openup12',\n",
              " 'juliana19',\n",
              " 'teste10',\n",
              " 'kswa2mrv',\n",
              " '20Dgw7TQ0OQVdly7',\n",
              " 'ikanez886',\n",
              " 'obstacle25',\n",
              " '12345yolanda',\n",
              " '52558000aaa',\n",
              " 'z3ro1sm',\n",
              " 'tin030201',\n",
              " 'farrukhcse12',\n",
              " 'sbl571017',\n",
              " 'IjUcOtYqAwel725',\n",
              " 'qn5xpg3k00',\n",
              " 'ass359',\n",
              " 'patri1973',\n",
              " 's4m2dx9e6',\n",
              " '0870330135a',\n",
              " 'bgrvl80',\n",
              " 'kzde5577',\n",
              " 's9830950044',\n",
              " 'p@sslng2diword',\n",
              " 'ga98SIzk0NwhiZaE',\n",
              " 'qn5xpg3k00',\n",
              " 'vehat387',\n",
              " 'polo2014',\n",
              " '20010509wang',\n",
              " 'x8512514',\n",
              " '612035180tok',\n",
              " 'ass359',\n",
              " 'a0972986650',\n",
              " 'ns2b0727',\n",
              " 'peluchin4',\n",
              " '612035180tok',\n",
              " 'meriton23',\n",
              " 'juliel009',\n",
              " 'elyass15@ajilent-ci',\n",
              " 'zoobike04',\n",
              " 'Iamthelegend1!',\n",
              " '123net123',\n",
              " '3y6iwef2g6',\n",
              " 'IjUcOtYqAwel725',\n",
              " 'teste10',\n",
              " 'obstacle25',\n",
              " 'wisal1234',\n",
              " '6975038lp',\n",
              " 'v1118714',\n",
              " '5gzj5uf',\n",
              " 'vehat387',\n",
              " '215466kenyi',\n",
              " '0870330135a',\n",
              " 'barboza221294',\n",
              " 'moken7',\n",
              " 'wxS2ztDk4OATjBfI',\n",
              " 'q0pv0fk',\n",
              " 'barra23',\n",
              " 'igejasy712',\n",
              " 'samael666',\n",
              " 'RqsuUsDYxNgr8T40',\n",
              " 'gaymaids1',\n",
              " 'yut0838828185',\n",
              " 'ginger972',\n",
              " 'jerusalem393',\n",
              " 'ns2b0727',\n",
              " 'oekojWyH120063',\n",
              " 'potatobus150',\n",
              " 'kinga22',\n",
              " 'mike09',\n",
              " 'bozoxik602',\n",
              " 'pikey231',\n",
              " 'v1118714',\n",
              " '612035180tok',\n",
              " 'demon10',\n",
              " 'prisonbreak1',\n",
              " 'hayhayq2',\n",
              " 'www32223222',\n",
              " 'ikanez886',\n",
              " 'tomas7896',\n",
              " '159951josh',\n",
              " 'alimagik1',\n",
              " 'damyvo114',\n",
              " 'tia150979',\n",
              " 'uxyloga692',\n",
              " 'yqugu927',\n",
              " '612035180tok',\n",
              " 'wycinu436',\n",
              " 'barra23',\n",
              " 'asv5o9yu',\n",
              " '7mV0pKTA3MgHy8Jv',\n",
              " 'xW8-3w7-MFB-CKH',\n",
              " 'z7zbgIDkzMQeHUd9',\n",
              " 'rntprns7',\n",
              " 'snolyuj04',\n",
              " 'kinga22',\n",
              " 'prisonbreak1',\n",
              " 'sarahi1628',\n",
              " 'cesarmaio1',\n",
              " 'franczuk33',\n",
              " 'kinga22',\n",
              " 'icap12',\n",
              " '6tequila6',\n",
              " 'virush1n1',\n",
              " '7mV0pKTA3MgHy8Jv',\n",
              " 'patri1973',\n",
              " 'elonex24',\n",
              " 'hayhayq2',\n",
              " 'kyxvufl37',\n",
              " 'portales1',\n",
              " 'zgmfnwuq25',\n",
              " '147963asd',\n",
              " 'as326159',\n",
              " 'exitos2009',\n",
              " 'peluchin4',\n",
              " '52558000aaa',\n",
              " 'isqizkg1',\n",
              " 'jonothepoop1',\n",
              " '2010server',\n",
              " 'barra23',\n",
              " 'b4NbTxDEyNgG141J',\n",
              " 'pato221182',\n",
              " 'www32223222',\n",
              " 'patri1973',\n",
              " 'meriton23',\n",
              " 'poseidon2011',\n",
              " 'jUV4dSDQwNwPpA36',\n",
              " 'marita1',\n",
              " 'elyass15@ajilent-ci',\n",
              " 'qn5xpg3k00',\n",
              " '1katertje',\n",
              " '2010server',\n",
              " 'znbl5tj1',\n",
              " 'finisterra1',\n",
              " '10Erjrlmebup0n',\n",
              " 'krumbul123',\n",
              " 'elyass15@ajilent-ci',\n",
              " 'bgrvl80',\n",
              " 'ikanez886',\n",
              " '2010server',\n",
              " 'kswa2mrv',\n",
              " 'meopvywk628',\n",
              " 'ubojig109',\n",
              " 'klara-tershina3H',\n",
              " 'jalal123456',\n",
              " 'kenneth610',\n",
              " 'a2531106',\n",
              " 'hisnipes1',\n",
              " 'ldteugao6',\n",
              " 'QWERTY0011',\n",
              " 'wycinu436',\n",
              " 'juany57',\n",
              " 'UF1Z2WjE5Mg26R1K',\n",
              " 'pHyqueDIyNQ8vmhb',\n",
              " 'q0pv0fk',\n",
              " '6975038lp',\n",
              " 'kswa2mrv',\n",
              " 'calcifer32',\n",
              " 'koabcswzt3',\n",
              " 'znbl5tj1',\n",
              " 'ikanez886',\n",
              " 'josue12',\n",
              " 'yut0838828185',\n",
              " '6975038lp',\n",
              " 'go7kew7a2po',\n",
              " 'atigi839',\n",
              " '20010509wang',\n",
              " 'cigicigi123',\n",
              " '10Erjrlmebup0n',\n",
              " 'afavin964',\n",
              " '612035180tok',\n",
              " 't8IkFRDIxMAFV2JW',\n",
              " 'asgaliu11',\n",
              " '283671gus',\n",
              " 'k1k2k3k4k5k6',\n",
              " 'a0972986650',\n",
              " 'xiau5ff',\n",
              " 'kP82iqDMxNgBMxBP',\n",
              " 'kjkjkj1',\n",
              " 'p2share',\n",
              " 'gtlek',\n",
              " 'meriton23',\n",
              " 'g067057895',\n",
              " 'kikeq102',\n",
              " 'lrhxmevb620',\n",
              " 'ga98SIzk0NwhiZaE',\n",
              " 'xyws951753',\n",
              " 'afavin964',\n",
              " 'z3ro1sm',\n",
              " 'nK0yKXTU0NQHZE2e',\n",
              " '4fqa52vecr',\n",
              " 'sbl571017',\n",
              " 'okn9zp9o',\n",
              " 'u6c8vhow',\n",
              " 'TyWM72UNEex8Q8Y',\n",
              " 'llahetihw1',\n",
              " 'kVczcljg4OA25Aeb',\n",
              " 'xp;ysmybst',\n",
              " 'memjan123',\n",
              " 'hayhayq2',\n",
              " 'robot425',\n",
              " 'mustang337',\n",
              " 'u6c8vhow',\n",
              " '612035180tok',\n",
              " 'kjkjkj1',\n",
              " 'owote852',\n",
              " 'ajyrew547',\n",
              " 'a110804032',\n",
              " 'cristiano7',\n",
              " 'tin030201',\n",
              " 'jUV4dSDQwNwPpA36',\n",
              " 'IRZA98',\n",
              " 'cesarmaio1',\n",
              " 'webstudio8',\n",
              " '20Dgw7TQ0OQVdly7',\n",
              " '6tequila6',\n",
              " 'jytifok873',\n",
              " 'kP82iqDMxNgBMxBP',\n",
              " 'nello11',\n",
              " 'vietnga92',\n",
              " 'mario489800',\n",
              " 'xyws951753',\n",
              " '33kanun03',\n",
              " '6yy6yy',\n",
              " 'igejasy712',\n",
              " 'kVczcljg4OA25Aeb',\n",
              " 'woon12',\n",
              " 'ryjypes139',\n",
              " 'juliana19',\n",
              " 'sasuke4',\n",
              " 'oioo9og',\n",
              " 'sbl571017',\n",
              " 'cigicigi123',\n",
              " 'p2share',\n",
              " 'xanyrum650',\n",
              " 'woon12',\n",
              " 'lsdlsd1',\n",
              " 'clave2013',\n",
              " 'ejeko677',\n",
              " 'vehat387',\n",
              " 'hlQ8gDTExMQWkeda',\n",
              " 'xanyrum650',\n",
              " 'xyws951753',\n",
              " 'gerardway1',\n",
              " 'clave2013',\n",
              " '20010509wang',\n",
              " 'vuqADUSatAJO800',\n",
              " '5gzj5uf',\n",
              " 'koabcswzt3',\n",
              " '0870330135a',\n",
              " 'iwaguh884',\n",
              " '4165000yakub',\n",
              " 'Iamthelegend1!',\n",
              " 'meriton23',\n",
              " 'okn9zp9o',\n",
              " 'deryxi704',\n",
              " '26522876p',\n",
              " 'gdfn76',\n",
              " 'robot425',\n",
              " '2021848709.',\n",
              " 'isqizkg1',\n",
              " 'ixehawojEPe418',\n",
              " 's4m2dx9e6',\n",
              " 'ejeko677',\n",
              " 'lsdlsd1',\n",
              " 'as8594505',\n",
              " 'tim80327',\n",
              " 'megzy123',\n",
              " 'marita1',\n",
              " 'rntprns7',\n",
              " 'walterivl13',\n",
              " 'planes123',\n",
              " 'jr88072635',\n",
              " 'ejeko677',\n",
              " 'ppnyadam09',\n",
              " '0870330135a',\n",
              " 'rqmswof2llb0',\n",
              " 'yami12',\n",
              " 'sw10d014',\n",
              " 'alimagik1',\n",
              " 'megzy123',\n",
              " 'AVYq1lDE4MgAZfNt',\n",
              " 'deryxi704',\n",
              " 'examy624',\n",
              " 'graciela2',\n",
              " 'bellsuki1',\n",
              " 'X9WVojjE4MgVAIiR',\n",
              " '1ngaymuadong',\n",
              " '6975038lp',\n",
              " 'mashhood_afzal21087',\n",
              " 'mickael12',\n",
              " 'x0004534',\n",
              " 'kdl9cl53',\n",
              " 'hqh2eYjQxOQPYIsA',\n",
              " 'control9',\n",
              " 'a03242241431a',\n",
              " 'xp;ysmybst',\n",
              " 'josue12',\n",
              " 'elyass15@ajilent-ci',\n",
              " 'afavin964',\n",
              " '07dpv1127b',\n",
              " 'xanyrum650',\n",
              " 'mmm23mm',\n",
              " 'kitty555',\n",
              " 'hosna1368',\n",
              " 'jUV4dSDQwNwPpA36',\n",
              " 'GGmm26120904..',\n",
              " 'parvizrus13',\n",
              " 'folashade1',\n",
              " 'poseidon2011',\n",
              " '52558000aaa',\n",
              " 'kry1z9',\n",
              " '631ihOZogELoVap',\n",
              " 'RPFUOUDQwMwVW0AS',\n",
              " '52558000aaa',\n",
              " 'patri1973',\n",
              " 'ok>bdk',\n",
              " 'vgnfs495vp',\n",
              " 'icap12',\n",
              " 'zedika521',\n",
              " 'parvizrus13',\n",
              " 'legna13',\n",
              " 'balamuc123',\n",
              " 'legna13',\n",
              " '26522876p',\n",
              " 'kenneth610',\n",
              " 'gdfn76',\n",
              " 'hosna1368',\n",
              " '7mV0pKTA3MgHy8Jv',\n",
              " 'oioo9og',\n",
              " 's0xwym7h',\n",
              " 'ycqtgdso3',\n",
              " '1234159hero',\n",
              " '929865yt',\n",
              " 'lzhzad1989',\n",
              " 'ts34a3fodh3i',\n",
              " 'qefoquf1uf',\n",
              " 'hpqkoxsn5',\n",
              " 'sydney213',\n",
              " 'adminmao888',\n",
              " 'zidadoh258',\n",
              " 'klara-tershina3H',\n",
              " 'ikanez886',\n",
              " 'X9WVojjE4MgVAIiR',\n",
              " 'alimagik1',\n",
              " 'zgmfnwuq25',\n",
              " 'patty94',\n",
              " '1234159hero',\n",
              " 'paulino123',\n",
              " '20010509wang',\n",
              " 'a2486315',\n",
              " 'wo9aiwangyan',\n",
              " 'bgrvl80',\n",
              " 'prisonbreak1',\n",
              " 'mike09',\n",
              " 'd04m11',\n",
              " 'visi7k1yr',\n",
              " 'marita1',\n",
              " 'edcmki90',\n",
              " 'zidadoh258',\n",
              " 'pmcm110118008',\n",
              " 'tomas7896',\n",
              " 'gill02',\n",
              " 'oioo9og',\n",
              " '07dpv1127b',\n",
              " 'taiga0088',\n",
              " 'folashade1',\n",
              " 'go7kew7a2po',\n",
              " '147963asd',\n",
              " 'rakag279',\n",
              " 'yami12',\n",
              " 'prisonbreak1',\n",
              " 'b98nwtpriyesh',\n",
              " 'virush1n1',\n",
              " 'webstudio8',\n",
              " 'jonothepoop1',\n",
              " 'aio42fv',\n",
              " 'RqsuUsDYxNgr8T40',\n",
              " 'a110804032',\n",
              " 'sd6x9s3s',\n",
              " 'walterivl13',\n",
              " 'kah4544875',\n",
              " 'yitbos77',\n",
              " 'aslanmarco007',\n",
              " 'rqmswof2llb0',\n",
              " 'omakiva153',\n",
              " 'novelia21',\n",
              " 'princ3sa',\n",
              " 'vgnfs495vp',\n",
              " '6975038lp',\n",
              " 'bang6k',\n",
              " 'm4r4hne',\n",
              " 'teemteem97',\n",
              " 'oscar2002',\n",
              " 'ahibyg892',\n",
              " 'mohantra1',\n",
              " '631ihOZogELoVap',\n",
              " 'sofietou74',\n",
              " 'Ju6BIMTU0MwYXtL4',\n",
              " 'nicolas05',\n",
              " '3CgRg8DA1NQY1iEj',\n",
              " 'mazdarx7',\n",
              " '2863e00016',\n",
              " '2010server',\n",
              " 'wibi182d',\n",
              " 'wasanun13',\n",
              " 'w1ll1ams',\n",
              " '12345yolanda',\n",
              " 'xW8-3w7-MFB-CKH',\n",
              " 'cigicigi123',\n",
              " 'khmer100.03278&?><Mnb',\n",
              " 'pato221182',\n",
              " 'c3h8bkzr',\n",
              " '1ngaymuadong',\n",
              " 'ixehawojEPe418',\n",
              " 'v1118714',\n",
              " 'RqsuUsDYxNgr8T40',\n",
              " 'wxS2ztDk4OATjBfI',\n",
              " 'we34dar88',\n",
              " 'yhwbzci130',\n",
              " 'beijing168',\n",
              " 'y0unus',\n",
              " '6tequila6',\n",
              " 'wisal1234',\n",
              " 'finisterra1',\n",
              " 'njmania114',\n",
              " 'pugceya468',\n",
              " 'iacool99',\n",
              " '3CgRg8DA1NQY1iEj',\n",
              " 'u6c8vhow',\n",
              " 'pxjwmeqyn5',\n",
              " 'wuzyci421',\n",
              " 'caramelo9',\n",
              " 'hayhayq2',\n",
              " 'diarie1',\n",
              " '123maxbala',\n",
              " 'xp;ysmybst',\n",
              " 'nebunule2',\n",
              " 'keithcutlip99',\n",
              " 'QWERTY0011',\n",
              " 'g067057895',\n",
              " 'faranumar91',\n",
              " 'zgmfnwuq25',\n",
              " 'may112001',\n",
              " 'Staterkom20081993',\n",
              " 'ns2b0727',\n",
              " 'aosmaxd0',\n",
              " 'n501iomf',\n",
              " 'barra23',\n",
              " 'coy29061994',\n",
              " '1ngaymuadong',\n",
              " 'd04m11',\n",
              " 'yu4cmn',\n",
              " '0870330135a',\n",
              " 'h1h2h3h4h5',\n",
              " '4fqa52vecr',\n",
              " 'sd6x9s3s',\n",
              " 'kukimuki123',\n",
              " 'matiofox08',\n",
              " 'mega0109',\n",
              " 'xW8-3w7-MFB-CKH',\n",
              " 'lrhxmevb620',\n",
              " 'd6VyrkFV6oblxNs5N8cW',\n",
              " 'bc5e4vca',\n",
              " 'sebax2013',\n",
              " 'qopybuxi2',\n",
              " 'jbtcnd6',\n",
              " 'junaid5',\n",
              " 'yjuqseb416',\n",
              " 'jeeves123',\n",
              " 'zu20081965',\n",
              " 'rLLh4WDQ2OAWbDO5',\n",
              " 'UF1Z2WjE5Mg26R1K',\n",
              " 'hotdog20',\n",
              " 'j09000',\n",
              " 'popo0404',\n",
              " 'acetita478',\n",
              " 'Ju6BIMTU0MwYXtL4',\n",
              " 'azerty32',\n",
              " 'pekai2004',\n",
              " 'j09000',\n",
              " 'jcav26',\n",
              " 'keithcutlip99',\n",
              " 'diarie1',\n",
              " 'oscar69',\n",
              " 'cerner09',\n",
              " 'khurram_',\n",
              " 'qopybuxi2',\n",
              " '1qa2ws3ed4rf',\n",
              " 'x8512514',\n",
              " 'kinga22',\n",
              " 'sbnivetha123',\n",
              " 'markama10',\n",
              " 'patata91',\n",
              " 'puegwajy416',\n",
              " 'juliana19',\n",
              " 'jbtcnd6',\n",
              " 'znbl5tj1',\n",
              " 'butisugo39',\n",
              " 'stalucia66',\n",
              " 'anon13',\n",
              " 'azerty32',\n",
              " 'YADHJIGSAWS11',\n",
              " 'synyxyr723',\n",
              " 'stalucia66',\n",
              " '0169395484a',\n",
              " '612035180tok',\n",
              " 'osimeytju12',\n",
              " 'meriton23',\n",
              " 'folashade1',\n",
              " 'ilunia20',\n",
              " 'ebacuro434',\n",
              " 'hpqkoxsn5',\n",
              " '147963asd',\n",
              " 'jsm159167',\n",
              " 'we34dar88',\n",
              " 'asdasdf1',\n",
              " 'failz0r',\n",
              " '1597535youssi',\n",
              " 'khurram_',\n",
              " 'naseKoBUMIg295',\n",
              " 'bellsuki1',\n",
              " 'alodise603',\n",
              " 'vehat387',\n",
              " '0870330135a',\n",
              " 'gracimir87',\n",
              " 'sandra0547',\n",
              " 'ldteugao6',\n",
              " 'xzeyfbi495',\n",
              " 'juliana19',\n",
              " 'yitbos77',\n",
              " 'housefly74',\n",
              " 'junaid5',\n",
              " 'sysoja794',\n",
              " 'moimoimoi9',\n",
              " '72o0yzekib4',\n",
              " 'synyxyr723',\n",
              " 'mohantra1',\n",
              " 'ts34a3fodh3i',\n",
              " '123477889a',\n",
              " 'sysoja794',\n",
              " 'weicat12',\n",
              " 'vgnfs495vp',\n",
              " 'jUV4dSDQwNwPpA36',\n",
              " 'byeypb2',\n",
              " 'kitty555',\n",
              " 'x0004534',\n",
              " 'killer5',\n",
              " '929865yt',\n",
              " 'kenyu001',\n",
              " 'vocal0619',\n",
              " '5gzj5uf',\n",
              " 'pukiw102',\n",
              " 'uqilyni846',\n",
              " 'tPGMkBjkyMg3hGzu',\n",
              " 'zedika521',\n",
              " '1234159hero',\n",
              " 'saule123',\n",
              " 'c1brb3lt',\n",
              " '2yz4ewwg',\n",
              " 'jerusalem393',\n",
              " 'housefly74',\n",
              " 'patri1973',\n",
              " 'luiskeko31',\n",
              " 'asakapa22',\n",
              " '33kanun03',\n",
              " 'change201',\n",
              " 'kahcyxvj24',\n",
              " 'ok>bdk',\n",
              " 'umetic21',\n",
              " 'puegwajy416',\n",
              " 'examy624',\n",
              " 'azizi120583',\n",
              " 'yk530mg8',\n",
              " 'dK4dWOjM1OAPeisw',\n",
              " 'lsdlsd1',\n",
              " '00J46LTAxMgME7C4',\n",
              " 'zb08110229',\n",
              " 'control9',\n",
              " 'J0LcDWDc2NAVE8j3',\n",
              " 'AVYq1lDE4MgAZfNt',\n",
              " 'utuham322',\n",
              " 'bc5e4vca',\n",
              " 'dK4dWOjM1OAPeisw',\n",
              " '6tequila6',\n",
              " '2akira2',\n",
              " 'kevin24',\n",
              " 'princ3sa',\n",
              " 'clumsy0619',\n",
              " 'z888888',\n",
              " 'exitos2009',\n",
              " 'sergius1964',\n",
              " 'ihana906',\n",
              " 'gaymaids1',\n",
              " '12345yolanda',\n",
              " 'azizi120583',\n",
              " 'walterivl13',\n",
              " 'dK4dWOjM1OAPeisw',\n",
              " 'sha122511',\n",
              " 'onurb1994',\n",
              " '847XagYxUHUXOW',\n",
              " 'luthien123',\n",
              " 'xf6385494',\n",
              " 'skoda06',\n",
              " 'alchimie79',\n",
              " 'calcifer32',\n",
              " 'pHyqueDIyNQ8vmhb',\n",
              " 'junaid5',\n",
              " 'tucagu356',\n",
              " 'finisterra1',\n",
              " 'upomel180',\n",
              " 'IRZA98',\n",
              " 'jorge1489',\n",
              " 'kVczcljg4OA25Aeb',\n",
              " 'coy29061994',\n",
              " '2fakjv',\n",
              " 'e667794c1d',\n",
              " 'njmania114',\n",
              " 'emufat882',\n",
              " 'dK4dWOjM1OAPeisw',\n",
              " 'nicolas05',\n",
              " 'puegwajy416',\n",
              " 'ayles2266',\n",
              " 'qefoquf1uf',\n",
              " 'DTUQG5jU5MwmR1L9',\n",
              " 'coy29061994',\n",
              " 'kabrito1',\n",
              " 'wibi182d',\n",
              " 'julie1989',\n",
              " 'calcifer32',\n",
              " 'tspirits08',\n",
              " 'kino3434',\n",
              " 'finisterra1',\n",
              " 'asdasdf1',\n",
              " 'carla99',\n",
              " 'zjl0kx03',\n",
              " 'xlxlxl777',\n",
              " 'alodise603',\n",
              " '123net123',\n",
              " 'zjl0kx03',\n",
              " 'muoaqxwc21',\n",
              " 'aan2900220',\n",
              " 'mike09',\n",
              " 'rLLh4WDQ2OAWbDO5',\n",
              " 'clave08',\n",
              " '4fqa52vecr',\n",
              " 'Truelove19902610',\n",
              " 'pardalgg5',\n",
              " 'megdam55',\n",
              " 'bagdas2011',\n",
              " 'Iamthelegend1!',\n",
              " 'vietnga92',\n",
              " 'RPFUOUDQwMwVW0AS',\n",
              " 'failz0r',\n",
              " '2863e00016',\n",
              " 'damyvo114',\n",
              " 'ydkmujrze3',\n",
              " 'princ3sa',\n",
              " 'kikeq102',\n",
              " 'njmania114',\n",
              " 'krumbul123',\n",
              " 'abizar08',\n",
              " 'wuzsadav933',\n",
              " 'naseKoBUMIg295',\n",
              " 'amandine666',\n",
              " 'pekai2004',\n",
              " 'djngeyut2707',\n",
              " 'kukimuki123',\n",
              " 'qefoquf1uf',\n",
              " 'zidadoh258',\n",
              " 'josue12',\n",
              " 'gpc151192',\n",
              " 'trust123',\n",
              " 'elonex24',\n",
              " 'herherher1',\n",
              " 'kinga22',\n",
              " 'falre1524',\n",
              " 'd04m11',\n",
              " '2GnTStTE4Mw4MTwv',\n",
              " 'wuzsadav933',\n",
              " 'portales1',\n",
              " 'xlxlxl777',\n",
              " 'pacman23',\n",
              " 'tot2531s',\n",
              " 'gandhi8513',\n",
              " 'v10rica',\n",
              " 'plumilla1',\n",
              " 'woon12',\n",
              " '248sUqiFEJuRag',\n",
              " 'taccy12',\n",
              " 'L2i2ZwTg1MQajeBm',\n",
              " 'j2yj2yj2y',\n",
              " '2GnTStTE4Mw4MTwv',\n",
              " 'legna13',\n",
              " 'lollies1989',\n",
              " 'kyxvufl37',\n",
              " 'laedbchsx687',\n",
              " 'ravens11',\n",
              " 'jules2109',\n",
              " 'luiskeko31',\n",
              " 'guliotth82',\n",
              " 'z888888',\n",
              " 'zedika521',\n",
              " 'ram@!sita15392',\n",
              " 'studenko123',\n",
              " 'shooting1965j',\n",
              " 'zoobike04',\n",
              " 'webhost0hm000',\n",
              " '3y6iwef2g6',\n",
              " 'yzxwvgbdu503',\n",
              " 'mzhrmir786',\n",
              " 'jsm159167',\n",
              " 'parvizrus13',\n",
              " 'desmondkok21',\n",
              " 'kino3434',\n",
              " 'aosmaxd0',\n",
              " 'numero2',\n",
              " 'gohan2602',\n",
              " 'patata91',\n",
              " 'd4xQ3LjUwMQFVCYQ',\n",
              " 'qopybuxi2',\n",
              " '612035180tok',\n",
              " 'prisonbreak1',\n",
              " 'walterivl13',\n",
              " 'okn9zp9o',\n",
              " '000webhostcom',\n",
              " '27121995qw',\n",
              " 'Jovan13lovekenthjusvan4ever',\n",
              " 'ihana906',\n",
              " 'rogyh820',\n",
              " 'yk530mg8',\n",
              " 'yami12',\n",
              " 'ycqtgdso3',\n",
              " '0123one47',\n",
              " 'ufoduvo540',\n",
              " 'z3ro1sm',\n",
              " '1qa2ws3ed4rf',\n",
              " 'X34y2CzY5MACs6kp',\n",
              " 'ukyzopi369',\n",
              " '1satguru1',\n",
              " 'teemteem97',\n",
              " 'p0lp0l',\n",
              " 'virush1n1',\n",
              " '612035180tok',\n",
              " 'goony01',\n",
              " 'adriana1',\n",
              " 'fbjurcd961',\n",
              " 'klister1',\n",
              " 'polo2014',\n",
              " 'pazzini24',\n",
              " 'failz0r',\n",
              " '123456rajput',\n",
              " 'ilyas789',\n",
              " 'sofietou74',\n",
              " 'keithcutlip99',\n",
              " 'mialr325',\n",
              " 'asdasdf1',\n",
              " 'mayur@8netinfotech',\n",
              " 'juliel009',\n",
              " 'r0cker',\n",
              " 'chuno8704',\n",
              " '600eretz',\n",
              " 'yut0838828185',\n",
              " 'g3rappa',\n",
              " 'mehmet4524572',\n",
              " 'xanyrum650',\n",
              " 'senghong2009',\n",
              " 'k9b8cz6aj2',\n",
              " 'teste10',\n",
              " 'bc5e4vca',\n",
              " 'matiofox08',\n",
              " 'mel008',\n",
              " 'admin123',\n",
              " '20010509wang',\n",
              " 'qn5xpg3k00',\n",
              " 'daaxvie1',\n",
              " '7l1hu1xa',\n",
              " 'sysoja794',\n",
              " 'yut0838828185',\n",
              " 'taulant123',\n",
              " 'Iamthelegend1!',\n",
              " 'yzxwvgbdu503',\n",
              " 'kikeq102',\n",
              " 'fbjurcd961',\n",
              " 'elperro1',\n",
              " 'SLAEgyTk0OQxphJq',\n",
              " 'pato221182',\n",
              " 'avanakit72',\n",
              " 'CabezaDePollo476',\n",
              " 'as8594505',\n",
              " 'virush1n1',\n",
              " 'poseidon2011',\n",
              " '1972vishara',\n",
              " 'la3na4you',\n",
              " 'lqksuym982',\n",
              " 'nokia6020',\n",
              " 'RPFUOUDQwMwVW0AS',\n",
              " 'woogee04',\n",
              " 'lofebop480',\n",
              " 'spl51190595',\n",
              " 'mikrochip0',\n",
              " 'pauramos06',\n",
              " 'zb08110229',\n",
              " 'n501iomf',\n",
              " 'sebax2013',\n",
              " 'beijing168',\n",
              " 'a0972986650',\n",
              " '2021848709.',\n",
              " 'SLAEgyTk0OQxphJq',\n",
              " 'bambink182',\n",
              " 'oioo9og',\n",
              " 'vehat387',\n",
              " 'puegwajy416',\n",
              " '64whbrb351',\n",
              " 'han19660120',\n",
              " 'sony18',\n",
              " 'tPGMkBjkyMg3hGzu',\n",
              " 'nicolas05',\n",
              " 'wo9aiwangyan',\n",
              " '1h6p8p9d',\n",
              " 'zcsntdmhe098',\n",
              " 'jekkmoeder>',\n",
              " 'krowka18',\n",
              " 'oti38289191',\n",
              " 'aquhih220',\n",
              " 'maylos2012',\n",
              " 'g067057895',\n",
              " '6975038lp',\n",
              " 'owote852',\n",
              " ...]"
            ]
          },
          "metadata": {
            "tags": []
          },
          "execution_count": 18
        }
      ]
    },
    {
      "cell_type": "code",
      "metadata": {
        "id": "lUCHPXdzsuaE"
      },
      "source": [
        ""
      ],
      "execution_count": null,
      "outputs": []
    },
    {
      "cell_type": "markdown",
      "metadata": {
        "id": "h4rlZnGysuaF"
      },
      "source": [
        "#### create a custom function to split input into characters of list"
      ]
    },
    {
      "cell_type": "markdown",
      "metadata": {
        "id": "asQ9s3cHvDs0"
      },
      "source": [
        "it must be in the form of character Machine Learning Dosn't ubderstand string "
      ]
    },
    {
      "cell_type": "code",
      "metadata": {
        "id": "T8v6DH5gsuaF"
      },
      "source": [
        "#Spliting the string into character\n",
        "def word_divide_char(inputs):\n",
        "    character=[]\n",
        "    for i in inputs:\n",
        "        character.append(i)\n",
        "    return character"
      ],
      "execution_count": null,
      "outputs": []
    },
    {
      "cell_type": "code",
      "metadata": {
        "id": "B8q0MjRfsuaF",
        "colab": {
          "base_uri": "https://localhost:8080/"
        },
        "outputId": "6a351e23-b90a-4007-fe13-2df80437344c"
      },
      "source": [
        "word_divide_char('kzde5577')"
      ],
      "execution_count": null,
      "outputs": [
        {
          "output_type": "execute_result",
          "data": {
            "text/plain": [
              "['k', 'z', 'd', 'e', '5', '5', '7', '7']"
            ]
          },
          "metadata": {
            "tags": []
          },
          "execution_count": 21
        }
      ]
    },
    {
      "cell_type": "code",
      "metadata": {
        "id": "dNXUBPCnsuaG",
        "colab": {
          "base_uri": "https://localhost:8080/"
        },
        "outputId": "d7cfbeb8-eb7c-4df2-a92a-9c749196294c"
      },
      "source": [
        "word_divide_char('lamborghin1')"
      ],
      "execution_count": null,
      "outputs": [
        {
          "output_type": "execute_result",
          "data": {
            "text/plain": [
              "['l', 'a', 'm', 'b', 'o', 'r', 'g', 'h', 'i', 'n', '1']"
            ]
          },
          "metadata": {
            "tags": []
          },
          "execution_count": 22
        }
      ]
    },
    {
      "cell_type": "markdown",
      "metadata": {
        "id": "-lHVMinfsuaH"
      },
      "source": [
        "#### import TF-IDF vectorizer to convert String data into numerical data"
      ]
    },
    {
      "cell_type": "code",
      "metadata": {
        "id": "f14MOfRHsuaH"
      },
      "source": [
        "from sklearn.feature_extraction.text import TfidfVectorizer"
      ],
      "execution_count": null,
      "outputs": []
    },
    {
      "cell_type": "code",
      "metadata": {
        "id": "Ooq_Znn3suaH"
      },
      "source": [
        "#using vectorizer we can achive a matrix of our data \n",
        "vectorizer=TfidfVectorizer(tokenizer=word_divide_char)"
      ],
      "execution_count": null,
      "outputs": []
    },
    {
      "cell_type": "markdown",
      "metadata": {
        "id": "qtutJqV9suaI"
      },
      "source": [
        "#### apply TF-IDF vectorizer on data"
      ]
    },
    {
      "cell_type": "code",
      "metadata": {
        "id": "JuD2InAosuaI"
      },
      "source": [
        "X=vectorizer.fit_transform(x)"
      ],
      "execution_count": null,
      "outputs": []
    },
    {
      "cell_type": "code",
      "metadata": {
        "id": "A9c6YO4bsuaJ",
        "colab": {
          "base_uri": "https://localhost:8080/"
        },
        "outputId": "eeb82939-9858-4ba0-b63d-8e621381f2bc"
      },
      "source": [
        "X.shape"
      ],
      "execution_count": null,
      "outputs": [
        {
          "output_type": "execute_result",
          "data": {
            "text/plain": [
              "(669639, 131)"
            ]
          },
          "metadata": {
            "tags": []
          },
          "execution_count": 27
        }
      ]
    },
    {
      "cell_type": "code",
      "metadata": {
        "id": "acUwvWJhsuaJ",
        "colab": {
          "base_uri": "https://localhost:8080/"
        },
        "outputId": "decd11bc-1497-4fee-b3fa-8f4dc6a59253"
      },
      "source": [
        "vectorizer.get_feature_names()"
      ],
      "execution_count": null,
      "outputs": [
        {
          "output_type": "execute_result",
          "data": {
            "text/plain": [
              "['\\x05',\n",
              " '\\x06',\n",
              " '\\x08',\n",
              " '\\x0f',\n",
              " '\\x10',\n",
              " '\\x12',\n",
              " '\\x16',\n",
              " '\\x17',\n",
              " '\\x19',\n",
              " '\\x1b',\n",
              " '\\x1c',\n",
              " '\\x1e',\n",
              " ' ',\n",
              " '!',\n",
              " '\"',\n",
              " '#',\n",
              " '$',\n",
              " '%',\n",
              " '&',\n",
              " '(',\n",
              " ')',\n",
              " '*',\n",
              " '+',\n",
              " '-',\n",
              " '.',\n",
              " '/',\n",
              " '0',\n",
              " '1',\n",
              " '2',\n",
              " '3',\n",
              " '4',\n",
              " '5',\n",
              " '6',\n",
              " '7',\n",
              " '8',\n",
              " '9',\n",
              " ';',\n",
              " '<',\n",
              " '=',\n",
              " '>',\n",
              " '?',\n",
              " '@',\n",
              " '[',\n",
              " '\\\\',\n",
              " ']',\n",
              " '^',\n",
              " '_',\n",
              " '`',\n",
              " 'a',\n",
              " 'b',\n",
              " 'c',\n",
              " 'd',\n",
              " 'e',\n",
              " 'f',\n",
              " 'g',\n",
              " 'h',\n",
              " 'i',\n",
              " 'j',\n",
              " 'k',\n",
              " 'l',\n",
              " 'm',\n",
              " 'n',\n",
              " 'o',\n",
              " 'p',\n",
              " 'q',\n",
              " 'r',\n",
              " 's',\n",
              " 't',\n",
              " 'u',\n",
              " 'v',\n",
              " 'w',\n",
              " 'x',\n",
              " 'y',\n",
              " 'z',\n",
              " '{',\n",
              " '|',\n",
              " '}',\n",
              " '~',\n",
              " '\\x7f',\n",
              " '\\x81',\n",
              " '\\x8d',\n",
              " '¡',\n",
              " '¦',\n",
              " '¨',\n",
              " '«',\n",
              " '°',\n",
              " '±',\n",
              " '²',\n",
              " '³',\n",
              " '´',\n",
              " 'µ',\n",
              " '¶',\n",
              " '·',\n",
              " '¹',\n",
              " 'º',\n",
              " '¼',\n",
              " '¾',\n",
              " '¿',\n",
              " '×',\n",
              " 'ß',\n",
              " 'à',\n",
              " 'á',\n",
              " 'â',\n",
              " 'ä',\n",
              " 'å',\n",
              " 'æ',\n",
              " 'é',\n",
              " 'ê',\n",
              " 'í',\n",
              " 'î',\n",
              " 'ï',\n",
              " 'ð',\n",
              " 'ñ',\n",
              " 'ò',\n",
              " 'ó',\n",
              " 'ô',\n",
              " 'õ',\n",
              " 'ö',\n",
              " '÷',\n",
              " 'ù',\n",
              " 'ú',\n",
              " 'û',\n",
              " 'ü',\n",
              " 'ý',\n",
              " 'þ',\n",
              " 'ÿ',\n",
              " 'ƒ',\n",
              " '—',\n",
              " '‚',\n",
              " '…',\n",
              " '™']"
            ]
          },
          "metadata": {
            "tags": []
          },
          "execution_count": 28
        }
      ]
    },
    {
      "cell_type": "markdown",
      "metadata": {
        "id": "HE9wKmNx0JJr"
      },
      "source": [
        "In your x you have all your vector."
      ]
    },
    {
      "cell_type": "code",
      "metadata": {
        "id": "1c4FSF2EsuaO",
        "colab": {
          "base_uri": "https://localhost:8080/"
        },
        "outputId": "c37fb3d0-a08e-42d2-e969-327e1e3ef765"
      },
      "source": [
        "first_document_vector=X[0] #object of sparse matrix or vector\n",
        "first_document_vector"
      ],
      "execution_count": null,
      "outputs": [
        {
          "output_type": "execute_result",
          "data": {
            "text/plain": [
              "<1x131 sparse matrix of type '<class 'numpy.float64'>'\n",
              "\twith 6 stored elements in Compressed Sparse Row format>"
            ]
          },
          "metadata": {
            "tags": []
          },
          "execution_count": 29
        }
      ]
    },
    {
      "cell_type": "code",
      "metadata": {
        "id": "Xxa44RJ9suaP",
        "colab": {
          "base_uri": "https://localhost:8080/"
        },
        "outputId": "4795c6a7-8972-4da5-e93e-9be5f0134df7"
      },
      "source": [
        "#If we want data in the form of column\n",
        "#T -->Transposit\n",
        "#todense()--> to get it the function\n",
        "first_document_vector.T.todense()\n",
        "\n",
        "##my first column will be my feature and second column will be importance w.r.t each and every feature"
      ],
      "execution_count": null,
      "outputs": [
        {
          "output_type": "execute_result",
          "data": {
            "text/plain": [
              "matrix([[0.        ],\n",
              "        [0.        ],\n",
              "        [0.        ],\n",
              "        [0.        ],\n",
              "        [0.        ],\n",
              "        [0.        ],\n",
              "        [0.        ],\n",
              "        [0.        ],\n",
              "        [0.        ],\n",
              "        [0.        ],\n",
              "        [0.        ],\n",
              "        [0.        ],\n",
              "        [0.        ],\n",
              "        [0.        ],\n",
              "        [0.        ],\n",
              "        [0.        ],\n",
              "        [0.        ],\n",
              "        [0.        ],\n",
              "        [0.        ],\n",
              "        [0.        ],\n",
              "        [0.        ],\n",
              "        [0.        ],\n",
              "        [0.        ],\n",
              "        [0.        ],\n",
              "        [0.        ],\n",
              "        [0.        ],\n",
              "        [0.        ],\n",
              "        [0.        ],\n",
              "        [0.        ],\n",
              "        [0.        ],\n",
              "        [0.        ],\n",
              "        [0.56632888],\n",
              "        [0.        ],\n",
              "        [0.59176687],\n",
              "        [0.        ],\n",
              "        [0.        ],\n",
              "        [0.        ],\n",
              "        [0.        ],\n",
              "        [0.        ],\n",
              "        [0.        ],\n",
              "        [0.        ],\n",
              "        [0.        ],\n",
              "        [0.        ],\n",
              "        [0.        ],\n",
              "        [0.        ],\n",
              "        [0.        ],\n",
              "        [0.        ],\n",
              "        [0.        ],\n",
              "        [0.        ],\n",
              "        [0.        ],\n",
              "        [0.        ],\n",
              "        [0.28569071],\n",
              "        [0.22115813],\n",
              "        [0.        ],\n",
              "        [0.        ],\n",
              "        [0.        ],\n",
              "        [0.        ],\n",
              "        [0.        ],\n",
              "        [0.29198771],\n",
              "        [0.        ],\n",
              "        [0.        ],\n",
              "        [0.        ],\n",
              "        [0.        ],\n",
              "        [0.        ],\n",
              "        [0.        ],\n",
              "        [0.        ],\n",
              "        [0.        ],\n",
              "        [0.        ],\n",
              "        [0.        ],\n",
              "        [0.        ],\n",
              "        [0.        ],\n",
              "        [0.        ],\n",
              "        [0.        ],\n",
              "        [0.33659567],\n",
              "        [0.        ],\n",
              "        [0.        ],\n",
              "        [0.        ],\n",
              "        [0.        ],\n",
              "        [0.        ],\n",
              "        [0.        ],\n",
              "        [0.        ],\n",
              "        [0.        ],\n",
              "        [0.        ],\n",
              "        [0.        ],\n",
              "        [0.        ],\n",
              "        [0.        ],\n",
              "        [0.        ],\n",
              "        [0.        ],\n",
              "        [0.        ],\n",
              "        [0.        ],\n",
              "        [0.        ],\n",
              "        [0.        ],\n",
              "        [0.        ],\n",
              "        [0.        ],\n",
              "        [0.        ],\n",
              "        [0.        ],\n",
              "        [0.        ],\n",
              "        [0.        ],\n",
              "        [0.        ],\n",
              "        [0.        ],\n",
              "        [0.        ],\n",
              "        [0.        ],\n",
              "        [0.        ],\n",
              "        [0.        ],\n",
              "        [0.        ],\n",
              "        [0.        ],\n",
              "        [0.        ],\n",
              "        [0.        ],\n",
              "        [0.        ],\n",
              "        [0.        ],\n",
              "        [0.        ],\n",
              "        [0.        ],\n",
              "        [0.        ],\n",
              "        [0.        ],\n",
              "        [0.        ],\n",
              "        [0.        ],\n",
              "        [0.        ],\n",
              "        [0.        ],\n",
              "        [0.        ],\n",
              "        [0.        ],\n",
              "        [0.        ],\n",
              "        [0.        ],\n",
              "        [0.        ],\n",
              "        [0.        ],\n",
              "        [0.        ],\n",
              "        [0.        ],\n",
              "        [0.        ],\n",
              "        [0.        ],\n",
              "        [0.        ],\n",
              "        [0.        ],\n",
              "        [0.        ]])"
            ]
          },
          "metadata": {
            "tags": []
          },
          "execution_count": 30
        }
      ]
    },
    {
      "cell_type": "code",
      "metadata": {
        "id": "WVyND7PRsuaP",
        "outputId": "f5fd7d3f-7523-4ed5-f2a8-df062207883b"
      },
      "source": [
        "df=pd.DataFrame(first_document_vector.T.todense(),index=vectorizer.get_feature_names(),columns=['TF-IDF'])\n",
        "df.sort_values(by=['TF-IDF'],ascending=False)"
      ],
      "execution_count": null,
      "outputs": [
        {
          "output_type": "execute_result",
          "data": {
            "text/html": [
              "<div>\n",
              "<style scoped>\n",
              "    .dataframe tbody tr th:only-of-type {\n",
              "        vertical-align: middle;\n",
              "    }\n",
              "\n",
              "    .dataframe tbody tr th {\n",
              "        vertical-align: top;\n",
              "    }\n",
              "\n",
              "    .dataframe thead th {\n",
              "        text-align: right;\n",
              "    }\n",
              "</style>\n",
              "<table border=\"1\" class=\"dataframe\">\n",
              "  <thead>\n",
              "    <tr style=\"text-align: right;\">\n",
              "      <th></th>\n",
              "      <th>TF-IDF</th>\n",
              "    </tr>\n",
              "  </thead>\n",
              "  <tbody>\n",
              "    <tr>\n",
              "      <th>7</th>\n",
              "      <td>0.591218</td>\n",
              "    </tr>\n",
              "    <tr>\n",
              "      <th>5</th>\n",
              "      <td>0.567444</td>\n",
              "    </tr>\n",
              "    <tr>\n",
              "      <th>z</th>\n",
              "      <td>0.335858</td>\n",
              "    </tr>\n",
              "    <tr>\n",
              "      <th>k</th>\n",
              "      <td>0.291619</td>\n",
              "    </tr>\n",
              "    <tr>\n",
              "      <th>d</th>\n",
              "      <td>0.285741</td>\n",
              "    </tr>\n",
              "    <tr>\n",
              "      <th>...</th>\n",
              "      <td>...</td>\n",
              "    </tr>\n",
              "    <tr>\n",
              "      <th>;</th>\n",
              "      <td>0.000000</td>\n",
              "    </tr>\n",
              "    <tr>\n",
              "      <th>9</th>\n",
              "      <td>0.000000</td>\n",
              "    </tr>\n",
              "    <tr>\n",
              "      <th>8</th>\n",
              "      <td>0.000000</td>\n",
              "    </tr>\n",
              "    <tr>\n",
              "      <th>6</th>\n",
              "      <td>0.000000</td>\n",
              "    </tr>\n",
              "    <tr>\n",
              "      <th>›</th>\n",
              "      <td>0.000000</td>\n",
              "    </tr>\n",
              "  </tbody>\n",
              "</table>\n",
              "<p>128 rows × 1 columns</p>\n",
              "</div>"
            ],
            "text/plain": [
              "      TF-IDF\n",
              "7   0.591218\n",
              "5   0.567444\n",
              "z   0.335858\n",
              "k   0.291619\n",
              "d   0.285741\n",
              "..       ...\n",
              ";   0.000000\n",
              "9   0.000000\n",
              "8   0.000000\n",
              "6   0.000000\n",
              "›   0.000000\n",
              "\n",
              "[128 rows x 1 columns]"
            ]
          },
          "metadata": {
            "tags": []
          },
          "execution_count": 26
        }
      ]
    },
    {
      "cell_type": "code",
      "metadata": {
        "id": "Kj88G9F6suaQ"
      },
      "source": [
        ""
      ],
      "execution_count": null,
      "outputs": []
    },
    {
      "cell_type": "markdown",
      "metadata": {
        "id": "rG8EQaXKsuaQ"
      },
      "source": [
        "#### split data into train & test\n",
        "    train---> To learn the relationship within data, \n",
        "    test-->  To do predictions, and this testing data will be unseen to my model"
      ]
    },
    {
      "cell_type": "code",
      "metadata": {
        "id": "xc1V6n2FsuaQ"
      },
      "source": [
        "from sklearn.model_selection import train_test_split"
      ],
      "execution_count": null,
      "outputs": []
    },
    {
      "cell_type": "code",
      "metadata": {
        "id": "L_VtXoXXsuaR"
      },
      "source": [
        "X_train, X_test, y_train, y_test=train_test_split(X,y,test_size=0.2,random_state=0)"
      ],
      "execution_count": null,
      "outputs": []
    },
    {
      "cell_type": "code",
      "metadata": {
        "id": "JrcTH_21suaR",
        "colab": {
          "base_uri": "https://localhost:8080/"
        },
        "outputId": "2204e546-bded-410a-9bea-0e2a4c0b2b43"
      },
      "source": [
        "X_train.shape"
      ],
      "execution_count": null,
      "outputs": [
        {
          "output_type": "execute_result",
          "data": {
            "text/plain": [
              "(535711, 131)"
            ]
          },
          "metadata": {
            "tags": []
          },
          "execution_count": 33
        }
      ]
    },
    {
      "cell_type": "code",
      "metadata": {
        "id": "cwIw_s9psuaR"
      },
      "source": [
        "from sklearn.linear_model import LogisticRegression"
      ],
      "execution_count": null,
      "outputs": []
    },
    {
      "cell_type": "markdown",
      "metadata": {
        "id": "d78v52kdsuaS"
      },
      "source": [
        "#### Apply Logistic on data as use-cas is Classification"
      ]
    },
    {
      "cell_type": "code",
      "metadata": {
        "id": "JoAEWaiKsuaS"
      },
      "source": [
        "clf=LogisticRegression(random_state=0,multi_class='multinomial') \n",
        "#\"multinomial\" Having more then two subcategory in the data.catogory --->[0,1,2]"
      ],
      "execution_count": null,
      "outputs": []
    },
    {
      "cell_type": "code",
      "metadata": {
        "id": "punZ5H9VsuaT",
        "colab": {
          "base_uri": "https://localhost:8080/"
        },
        "outputId": "3466b55b-6bee-4e30-d175-1872119d3849"
      },
      "source": [
        "clf.fit(X_train,y_train)"
      ],
      "execution_count": null,
      "outputs": [
        {
          "output_type": "execute_result",
          "data": {
            "text/plain": [
              "LogisticRegression(C=1.0, class_weight=None, dual=False, fit_intercept=True,\n",
              "                   intercept_scaling=1, l1_ratio=None, max_iter=100,\n",
              "                   multi_class='multinomial', n_jobs=None, penalty='l2',\n",
              "                   random_state=0, solver='lbfgs', tol=0.0001, verbose=0,\n",
              "                   warm_start=False)"
            ]
          },
          "metadata": {
            "tags": []
          },
          "execution_count": 43
        }
      ]
    },
    {
      "cell_type": "code",
      "metadata": {
        "id": "cNj0kIq5suaT"
      },
      "source": [
        ""
      ],
      "execution_count": null,
      "outputs": []
    },
    {
      "cell_type": "markdown",
      "metadata": {
        "id": "mCd1gbM0suaT"
      },
      "source": [
        "#### doing prediction for specific custom data.Doing Prediction of password which is not available in the data."
      ]
    },
    {
      "cell_type": "code",
      "metadata": {
        "id": "9B26XClesuaU",
        "colab": {
          "base_uri": "https://localhost:8080/"
        },
        "outputId": "1766222b-da22-412a-cf79-bd8579fb5ae2"
      },
      "source": [
        "dt=np.array(['%@123abcd'])\n",
        "pred=vectorizer.transform(dt) #coverting password into numerical as ML does not understand string data\n",
        "clf.predict(pred)"
      ],
      "execution_count": null,
      "outputs": [
        {
          "output_type": "execute_result",
          "data": {
            "text/plain": [
              "array([1])"
            ]
          },
          "metadata": {
            "tags": []
          },
          "execution_count": 45
        }
      ]
    },
    {
      "cell_type": "code",
      "metadata": {
        "id": "gRo6YmFqsuaV"
      },
      "source": [
        ""
      ],
      "execution_count": null,
      "outputs": []
    },
    {
      "cell_type": "markdown",
      "metadata": {
        "id": "qD_nH1azsuaV"
      },
      "source": [
        "#### doing prediction on X-Test data"
      ]
    },
    {
      "cell_type": "code",
      "metadata": {
        "id": "UELWpKTRsuaV",
        "colab": {
          "base_uri": "https://localhost:8080/"
        },
        "outputId": "2d55094f-796e-4e84-bf7d-94fcd1cbc1db"
      },
      "source": [
        "y_pred=clf.predict(X_test)\n",
        "y_pred\n",
        "\n",
        "#we will get all the prediction in the form of array ---> array([1, 1, 2, ..., 0, 1, 1]) "
      ],
      "execution_count": null,
      "outputs": [
        {
          "output_type": "execute_result",
          "data": {
            "text/plain": [
              "array([1, 1, 2, ..., 0, 1, 1])"
            ]
          },
          "metadata": {
            "tags": []
          },
          "execution_count": 46
        }
      ]
    },
    {
      "cell_type": "code",
      "metadata": {
        "id": "0U4Z6k0BsuaW"
      },
      "source": [
        ""
      ],
      "execution_count": null,
      "outputs": []
    },
    {
      "cell_type": "markdown",
      "metadata": {
        "id": "T2pRC6lqsuaW"
      },
      "source": [
        "#### check Accuracy of your model using confusion_matrix,accuracy_score"
      ]
    },
    {
      "cell_type": "code",
      "metadata": {
        "id": "Ms-H_ktOsuaW"
      },
      "source": [
        "from sklearn.metrics import confusion_matrix,accuracy_score"
      ],
      "execution_count": null,
      "outputs": []
    },
    {
      "cell_type": "code",
      "metadata": {
        "id": "bg-KGo_usuaW",
        "colab": {
          "base_uri": "https://localhost:8080/"
        },
        "outputId": "ce667c87-04b2-4403-e027-809683ad5946"
      },
      "source": [
        "cm=confusion_matrix(y_test,y_pred)\n",
        "print(cm)\n",
        "print(\"\\n\")\n",
        "print(accuracy_score(y_test,y_pred))\n",
        "\n",
        "\n",
        "#[[ 5262(TP)  12757    19]\n",
        "#[3853 92959(TP)   2651]\n",
        "#[40  5058   11329(TP)]]\n",
        "#True Prediction\n",
        "#Other all are False Prediction\n",
        " "
      ],
      "execution_count": null,
      "outputs": [
        {
          "output_type": "stream",
          "text": [
            "[[ 5262 12757    19]\n",
            " [ 3853 92959  2651]\n",
            " [   40  5058 11329]]\n",
            "\n",
            "\n",
            "0.8179768233677797\n"
          ],
          "name": "stdout"
        }
      ]
    },
    {
      "cell_type": "markdown",
      "metadata": {
        "id": "ugXlKTiQsuaX"
      },
      "source": [
        "##### create report of your model"
      ]
    },
    {
      "cell_type": "code",
      "metadata": {
        "id": "BOuAoGMVsuaX",
        "colab": {
          "base_uri": "https://localhost:8080/"
        },
        "outputId": "ab9785cd-e73b-4c13-9044-9cd6804c0181"
      },
      "source": [
        "from sklearn.metrics import classification_report\n",
        "print(classification_report(y_test,y_pred))"
      ],
      "execution_count": null,
      "outputs": [
        {
          "output_type": "stream",
          "text": [
            "              precision    recall  f1-score   support\n",
            "\n",
            "           0       0.57      0.29      0.39     18038\n",
            "           1       0.84      0.93      0.88     99463\n",
            "           2       0.81      0.69      0.74     16427\n",
            "\n",
            "    accuracy                           0.82    133928\n",
            "   macro avg       0.74      0.64      0.67    133928\n",
            "weighted avg       0.80      0.82      0.80    133928\n",
            "\n"
          ],
          "name": "stdout"
        }
      ]
    }
  ]
}